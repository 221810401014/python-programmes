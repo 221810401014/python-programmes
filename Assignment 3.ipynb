{
 "cells": [
  {
   "cell_type": "code",
   "execution_count": 1,
   "metadata": {},
   "outputs": [],
   "source": [
    "# Circle with half green and orange\n",
    "import turtle \n",
    "turtle.color(\"green\")\n",
    "turtle.begin_fill()\n",
    "turtle.circle(100,180)\n",
    "turtle.end_fill()\n",
    "turtle.hideturtle()\n",
    "turtle.color(\"orange\")\n",
    "turtle.begin_fill()\n",
    "turtle.circle(100,180)\n",
    "turtle.end_fill()\n",
    "turtle.hideturtle()"
   ]
  },
  {
   "cell_type": "code",
   "execution_count": 1,
   "metadata": {},
   "outputs": [],
   "source": [
    "# A Spirling Square with Pen color as 'Red'\n",
    "\n",
    "import turtle as t\n",
    "a1= t.Turtle()\n",
    "a1.pencolor('red')\n",
    "for i in range(250):\n",
    "   a1.forward(i)\n",
    "   a1.left(91)   \n",
    "t.done()"
   ]
  },
  {
   "cell_type": "code",
   "execution_count": 1,
   "metadata": {},
   "outputs": [
    {
     "data": {
      "text/plain": [
       "9"
      ]
     },
     "execution_count": 1,
     "metadata": {},
     "output_type": "execute_result"
    }
   ],
   "source": [
    "# program to print the large digit from given number\n",
    "\n",
    "def printLarge(n):\n",
    "    large = 0\n",
    "    while n != 0:\n",
    "        r = n % 10\n",
    "        if large < r:\n",
    "            large = r\n",
    "        n = n // 10\n",
    "    return large\n",
    "printLarge(1245698)"
   ]
  },
  {
   "cell_type": "code",
   "execution_count": 2,
   "metadata": {},
   "outputs": [
    {
     "data": {
      "text/plain": [
       "18"
      ]
     },
     "execution_count": 2,
     "metadata": {},
     "output_type": "execute_result"
    }
   ],
   "source": [
    "# program to print the Palindrome count between two limits\n",
    "def isPalindrome(n):\n",
    "    rev = 0\n",
    "    buffer = n\n",
    "    while n!= 0:\n",
    "        r = n % 10\n",
    "        rev = rev * 10 + r\n",
    "        n = n // 10\n",
    "    if rev == buffer:\n",
    "        return True\n",
    "    else:\n",
    "        return False\n",
    "    return\n",
    "\n",
    "def countPalindrome(lb,ub):\n",
    "    cnt = 0\n",
    "    while lb != ub:\n",
    "        # Implement\n",
    "        if isPalindrome(lb) == True:\n",
    "            cnt = cnt + 1\n",
    "        lb = lb + 1\n",
    "    return cnt\n",
    "countPalindrome(1,100)"
   ]
  },
  {
   "cell_type": "code",
   "execution_count": 4,
   "metadata": {},
   "outputs": [
    {
     "name": "stdout",
     "output_type": "stream",
     "text": [
      "2\n"
     ]
    }
   ],
   "source": [
    "# Program to count the word the sentence \n",
    "def countOccurences(str, word): \n",
    "      \n",
    "    # split the string by spaces in a \n",
    "    a = str.split(\" \") \n",
    "  \n",
    "    # search for pattern in a \n",
    "    count = 0\n",
    "    for i in range(0, len(a)): \n",
    "          \n",
    "        # if match found increase count  \n",
    "        if (word == a[i]): \n",
    "           count = count + 1\n",
    "             \n",
    "    return count        \n",
    "  \n",
    "# Driver code \n",
    "str =\" wheb is when the for is what  \"\n",
    "word =\"is\"\n",
    "print(countOccurences(str, word)) "
   ]
  }
 ],
 "metadata": {
  "kernelspec": {
   "display_name": "Python 3",
   "language": "python",
   "name": "python3"
  },
  "language_info": {
   "codemirror_mode": {
    "name": "ipython",
    "version": 3
   },
   "file_extension": ".py",
   "mimetype": "text/x-python",
   "name": "python",
   "nbconvert_exporter": "python",
   "pygments_lexer": "ipython3",
   "version": "3.7.3"
  }
 },
 "nbformat": 4,
 "nbformat_minor": 2
}
